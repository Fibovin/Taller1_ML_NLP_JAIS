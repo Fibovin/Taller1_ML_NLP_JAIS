{
 "cells": [
  {
   "cell_type": "markdown",
   "metadata": {},
   "source": [
    "![image info](https://raw.githubusercontent.com/albahnsen/MIAD_ML_and_NLP/main/images/banner_1.png)"
   ]
  },
  {
   "cell_type": "markdown",
   "metadata": {},
   "source": [
    "# Taller: Construcción e implementación de árboles de decisión y métodos de ensamblaje\n",
    "\n",
    "En este taller podrá poner en práctica los sus conocimientos sobre construcción e implementación de árboles de decisión y métodos de ensamblajes. El taller está constituido por 9 puntos, 5 relacionados con árboles de decisión (parte A) y 4 con métodos de ensamblaje (parte B)."
   ]
  },
  {
   "cell_type": "markdown",
   "metadata": {},
   "source": [
    "## Parte A - Árboles de decisión\n",
    "\n",
    "En esta parte del taller se usará el conjunto de datos de Capital Bikeshare de Kaggle, donde cada observación representa el alquiler de bicicletas durante una hora y día determinado. Para más detalles puede visitar los siguientes enlaces: [datos](https://archive.ics.uci.edu/ml/machine-learning-databases/00275/Bike-Sharing-Dataset.zip), [dicccionario de datos](https://archive.ics.uci.edu/ml/datasets/Bike+Sharing+Dataset#)."
   ]
  },
  {
   "cell_type": "markdown",
   "metadata": {},
   "source": [
    "### Datos prestamo de bicicletas"
   ]
  },
  {
   "cell_type": "code",
   "execution_count": 1,
   "metadata": {},
   "outputs": [],
   "source": [
    "import warnings\n",
    "warnings.filterwarnings('ignore')"
   ]
  },
  {
   "cell_type": "code",
   "execution_count": 2,
   "metadata": {},
   "outputs": [],
   "source": [
    "# Importación de librerías\n",
    "%matplotlib inline\n",
    "import pandas as pd\n",
    "import numpy as np\n",
    "from sklearn.model_selection import cross_val_score\n",
    "from sklearn.linear_model import LinearRegression\n",
    "from sklearn.tree import DecisionTreeRegressor, export_graphviz"
   ]
  },
  {
   "cell_type": "code",
   "execution_count": 3,
   "metadata": {},
   "outputs": [
    {
     "data": {
      "text/html": [
       "<div>\n",
       "<style scoped>\n",
       "    .dataframe tbody tr th:only-of-type {\n",
       "        vertical-align: middle;\n",
       "    }\n",
       "\n",
       "    .dataframe tbody tr th {\n",
       "        vertical-align: top;\n",
       "    }\n",
       "\n",
       "    .dataframe thead th {\n",
       "        text-align: right;\n",
       "    }\n",
       "</style>\n",
       "<table border=\"1\" class=\"dataframe\">\n",
       "  <thead>\n",
       "    <tr style=\"text-align: right;\">\n",
       "      <th></th>\n",
       "      <th>season</th>\n",
       "      <th>holiday</th>\n",
       "      <th>workingday</th>\n",
       "      <th>weather</th>\n",
       "      <th>temp</th>\n",
       "      <th>atemp</th>\n",
       "      <th>humidity</th>\n",
       "      <th>windspeed</th>\n",
       "      <th>casual</th>\n",
       "      <th>registered</th>\n",
       "      <th>total</th>\n",
       "      <th>hour</th>\n",
       "    </tr>\n",
       "    <tr>\n",
       "      <th>datetime</th>\n",
       "      <th></th>\n",
       "      <th></th>\n",
       "      <th></th>\n",
       "      <th></th>\n",
       "      <th></th>\n",
       "      <th></th>\n",
       "      <th></th>\n",
       "      <th></th>\n",
       "      <th></th>\n",
       "      <th></th>\n",
       "      <th></th>\n",
       "      <th></th>\n",
       "    </tr>\n",
       "  </thead>\n",
       "  <tbody>\n",
       "    <tr>\n",
       "      <th>2011-01-01 00:00:00</th>\n",
       "      <td>1</td>\n",
       "      <td>0</td>\n",
       "      <td>0</td>\n",
       "      <td>1</td>\n",
       "      <td>9.84</td>\n",
       "      <td>14.395</td>\n",
       "      <td>81</td>\n",
       "      <td>0.0</td>\n",
       "      <td>3</td>\n",
       "      <td>13</td>\n",
       "      <td>16</td>\n",
       "      <td>0</td>\n",
       "    </tr>\n",
       "    <tr>\n",
       "      <th>2011-01-01 01:00:00</th>\n",
       "      <td>1</td>\n",
       "      <td>0</td>\n",
       "      <td>0</td>\n",
       "      <td>1</td>\n",
       "      <td>9.02</td>\n",
       "      <td>13.635</td>\n",
       "      <td>80</td>\n",
       "      <td>0.0</td>\n",
       "      <td>8</td>\n",
       "      <td>32</td>\n",
       "      <td>40</td>\n",
       "      <td>1</td>\n",
       "    </tr>\n",
       "    <tr>\n",
       "      <th>2011-01-01 02:00:00</th>\n",
       "      <td>1</td>\n",
       "      <td>0</td>\n",
       "      <td>0</td>\n",
       "      <td>1</td>\n",
       "      <td>9.02</td>\n",
       "      <td>13.635</td>\n",
       "      <td>80</td>\n",
       "      <td>0.0</td>\n",
       "      <td>5</td>\n",
       "      <td>27</td>\n",
       "      <td>32</td>\n",
       "      <td>2</td>\n",
       "    </tr>\n",
       "    <tr>\n",
       "      <th>2011-01-01 03:00:00</th>\n",
       "      <td>1</td>\n",
       "      <td>0</td>\n",
       "      <td>0</td>\n",
       "      <td>1</td>\n",
       "      <td>9.84</td>\n",
       "      <td>14.395</td>\n",
       "      <td>75</td>\n",
       "      <td>0.0</td>\n",
       "      <td>3</td>\n",
       "      <td>10</td>\n",
       "      <td>13</td>\n",
       "      <td>3</td>\n",
       "    </tr>\n",
       "    <tr>\n",
       "      <th>2011-01-01 04:00:00</th>\n",
       "      <td>1</td>\n",
       "      <td>0</td>\n",
       "      <td>0</td>\n",
       "      <td>1</td>\n",
       "      <td>9.84</td>\n",
       "      <td>14.395</td>\n",
       "      <td>75</td>\n",
       "      <td>0.0</td>\n",
       "      <td>0</td>\n",
       "      <td>1</td>\n",
       "      <td>1</td>\n",
       "      <td>4</td>\n",
       "    </tr>\n",
       "  </tbody>\n",
       "</table>\n",
       "</div>"
      ],
      "text/plain": [
       "                     season  holiday  workingday  weather  temp   atemp  \\\n",
       "datetime                                                                  \n",
       "2011-01-01 00:00:00       1        0           0        1  9.84  14.395   \n",
       "2011-01-01 01:00:00       1        0           0        1  9.02  13.635   \n",
       "2011-01-01 02:00:00       1        0           0        1  9.02  13.635   \n",
       "2011-01-01 03:00:00       1        0           0        1  9.84  14.395   \n",
       "2011-01-01 04:00:00       1        0           0        1  9.84  14.395   \n",
       "\n",
       "                     humidity  windspeed  casual  registered  total  hour  \n",
       "datetime                                                                   \n",
       "2011-01-01 00:00:00        81        0.0       3          13     16     0  \n",
       "2011-01-01 01:00:00        80        0.0       8          32     40     1  \n",
       "2011-01-01 02:00:00        80        0.0       5          27     32     2  \n",
       "2011-01-01 03:00:00        75        0.0       3          10     13     3  \n",
       "2011-01-01 04:00:00        75        0.0       0           1      1     4  "
      ]
     },
     "execution_count": 3,
     "metadata": {},
     "output_type": "execute_result"
    }
   ],
   "source": [
    "# Lectura de la información de archivo .csv\n",
    "bikes = pd.read_csv('https://raw.githubusercontent.com/davidzarruk/MIAD_ML_NLP_2023/main/datasets/bikeshare.csv', index_col='datetime', parse_dates=True)\n",
    "\n",
    "# Renombrar variable \"count\" a \"total\"\n",
    "bikes.rename(columns={'count':'total'}, inplace=True)\n",
    "\n",
    "# Crear la hora como una variable \n",
    "bikes['hour'] = bikes.index.hour\n",
    "\n",
    "# Visualización de los datos\n",
    "bikes.head()"
   ]
  },
  {
   "cell_type": "markdown",
   "metadata": {},
   "source": [
    "### Punto 1 - Análisis descriptivo\n",
    "\n",
    "Ejecute las celdas 1.1 y 1.2. A partir de los resultados realice un análisis descriptivo sobre las variables \"season\" y \"hour\", escriba sus inferencias sobre los datos. Para complementar su análisis puede usar métricas como máximo, mínimo, percentiles entre otros."
   ]
  },
  {
   "cell_type": "code",
   "execution_count": 4,
   "metadata": {},
   "outputs": [
    {
     "data": {
      "text/plain": [
       "season\n",
       "1    116.343261\n",
       "2    215.251372\n",
       "3    234.417124\n",
       "4    198.988296\n",
       "Name: total, dtype: float64"
      ]
     },
     "execution_count": 4,
     "metadata": {},
     "output_type": "execute_result"
    }
   ],
   "source": [
    "# Celda 1.1\n",
    "bikes.groupby('season').total.mean()"
   ]
  },
  {
   "cell_type": "code",
   "execution_count": 5,
   "metadata": {
    "scrolled": true
   },
   "outputs": [
    {
     "data": {
      "text/plain": [
       "hour\n",
       "0      55.138462\n",
       "1      33.859031\n",
       "2      22.899554\n",
       "3      11.757506\n",
       "4       6.407240\n",
       "5      19.767699\n",
       "6      76.259341\n",
       "7     213.116484\n",
       "8     362.769231\n",
       "9     221.780220\n",
       "10    175.092308\n",
       "11    210.674725\n",
       "12    256.508772\n",
       "13    257.787281\n",
       "14    243.442982\n",
       "15    254.298246\n",
       "16    316.372807\n",
       "17    468.765351\n",
       "18    430.859649\n",
       "19    315.278509\n",
       "20    228.517544\n",
       "21    173.370614\n",
       "22    133.576754\n",
       "23     89.508772\n",
       "Name: total, dtype: float64"
      ]
     },
     "execution_count": 5,
     "metadata": {},
     "output_type": "execute_result"
    }
   ],
   "source": [
    "# Celda 1.2\n",
    "bikes.groupby('hour').total.mean()"
   ]
  },
  {
   "cell_type": "markdown",
   "metadata": {},
   "source": [
    "<font color='yellow'>Solución Punto 1.</font>"
   ]
  },
  {
   "cell_type": "code",
   "execution_count": 9,
   "metadata": {},
   "outputs": [
    {
     "name": "stdout",
     "output_type": "stream",
     "text": [
      "             season          hour\n",
      "count  10886.000000  10886.000000\n",
      "mean       2.506614     11.541613\n",
      "std        1.116174      6.915838\n",
      "min        1.000000      0.000000\n",
      "25%        2.000000      6.000000\n",
      "50%        3.000000     12.000000\n",
      "75%        4.000000     18.000000\n",
      "max        4.000000     23.000000\n"
     ]
    }
   ],
   "source": [
    "descriptivo = bikes[['season', 'hour']].describe()\n",
    "print(descriptivo)"
   ]
  },
  {
   "cell_type": "code",
   "execution_count": 14,
   "metadata": {},
   "outputs": [
    {
     "data": {
      "image/png": "[encoded data removed]",
      "text/plain": [
       "<Figure size 640x480 with 1 Axes>"
      ]
     },
     "metadata": {},
     "output_type": "display_data"
    },
    {
     "data": {
      "image/png": "[encoded data removed]",
      "text/plain": [
       "<Figure size 640x480 with 1 Axes>"
      ]
     },
     "metadata": {},
     "output_type": "display_data"
    }
   ],
   "source": [
    "import matplotlib.pyplot as plt\n",
    "\n",
    "plt.boxplot(bikes[\"season\"])\n",
    "plt.title(\"Boxplot de la temporada\")\n",
    "plt.ylabel(\"Temporada\")\n",
    "plt.show()\n",
    "\n",
    "plt.boxplot(bikes[\"hour\"])\n",
    "plt.title(\"Boxplot de la hora\")\n",
    "plt.ylabel(\"Hora\")\n",
    "plt.show()"
   ]
  },
  {
   "cell_type": "markdown",
   "metadata": {},
   "source": [
    "**Análisis.**\n",
    "\n",
    "1. Season: \n",
    "- El conjunto de datos contiene información sobre un total de 10,886 observaciones de temporada.\n",
    "- La media (promedio) de la temporada es aproximadamente 2.51. Esto indica que, en promedio, las observaciones están distribuidas entre las cuatro estaciones de manera relativamente uniforme.\n",
    "- La desviación estándar de aproximadamente 1.12 indica que hay cierta variabilidad en los datos de temporada alrededor de la media.\n",
    "- La temporada mínima es 1 (probablemente correspondiente a la primavera) y la temporada máxima es 4 (probablemente correspondiente al invierno).\n",
    "\n",
    "2. Hour:\n",
    "\n",
    "- El conjunto de datos contiene información sobre un total de 10,886 observaciones de hora.\n",
    "- La media (promedio) de la hora es aproximadamente 11.54. Esto sugiere que la mayoría de las observaciones de la hora tienden a estar alrededor de las 11 o 12 de la mañana.\n",
    "- La desviación estándar de aproximadamente 6.92 indica que hay una cantidad significativa de variabilidad en los datos de hora alrededor de la media.\n",
    "- La hora mínima es 0 (probablemente correspondiente a la medianoche) y la hora máxima es 23 (probablemente correspondiente a las 11 de la noche)."
   ]
  },
  {
   "cell_type": "markdown",
   "metadata": {},
   "source": [
    "### Punto 2 - Análisis de gráficos\n",
    "\n",
    "Primero ejecute la celda 2.1 y asegúrese de comprender el código y el resultado. Luego, en cada una de celdas 2.2 y 2.3 escriba un código que genere una gráfica del número de bicicletas rentadas promedio para cada valor de la variable \"hour\" (hora) cuando la variable \"season\" es igual a 1 (invierno) e igual a 3 (verano), respectivamente. Analice y escriba sus hallazgos."
   ]
  },
  {
   "cell_type": "code",
   "execution_count": 15,
   "metadata": {},
   "outputs": [
    {
     "data": {
      "text/plain": [
       "<Axes: xlabel='hour'>"
      ]
     },
     "execution_count": 15,
     "metadata": {},
     "output_type": "execute_result"
    },
    {
     "data": {
      "image/png": "[encoded data removed]",
      "text/plain": [
       "<Figure size 640x480 with 1 Axes>"
      ]
     },
     "metadata": {},
     "output_type": "display_data"
    }
   ],
   "source": [
    "# Celda 2.1 - rentas promedio para cada valor de la variable \"hour\"\n",
    "bikes.groupby('hour').total.mean().plot()"
   ]
  },
  {
   "cell_type": "markdown",
   "metadata": {},
   "source": [
    "<font color='yellow'>Solución Punto 2.</font>"
   ]
  },
  {
   "cell_type": "code",
   "execution_count": 21,
   "metadata": {},
   "outputs": [
    {
     "data": {
      "image/png": "[encoded data removed]",
      "text/plain": [
       "<Figure size 640x480 with 1 Axes>"
      ]
     },
     "metadata": {},
     "output_type": "display_data"
    }
   ],
   "source": [
    "# Celda 2.2 - \"season\"=1 escriba su código y hallazgos \n",
    "\n",
    "invierno = bikes[bikes[\"season\"] == 1]\n",
    "promedio_invierno = invierno.groupby(\"hour\")[\"total\"].mean()\n",
    "plt.plot(promedio_invierno, marker='o')\n",
    "plt.title(\"Número promedio de bicicletas rentadas por hora en invierno\")\n",
    "plt.xlabel(\"Hora\")\n",
    "plt.ylabel(\"Bicicletas rentadas promedio\")\n",
    "plt.xticks(range(24))\n",
    "plt.grid(True)\n",
    "plt.show()"
   ]
  },
  {
   "cell_type": "code",
   "execution_count": 22,
   "metadata": {},
   "outputs": [
    {
     "data": {
      "image/png": "[encoded data removed]",
      "text/plain": [
       "<Figure size 640x480 with 1 Axes>"
      ]
     },
     "metadata": {},
     "output_type": "display_data"
    }
   ],
   "source": [
    "# Celda 2.3 - \"season\"=3 escriba su código y hallazgos \n",
    "verano = bikes[bikes[\"season\"] == 3]\n",
    "promedio_verano = verano.groupby(\"hour\")[\"total\"].mean()\n",
    "plt.plot(promedio_verano, marker='o')\n",
    "plt.title(\"Número promedio de bicicletas rentadas por hora en verano\")\n",
    "plt.xlabel(\"Hora\")\n",
    "plt.ylabel(\"Bicicletas rentadas promedio\")\n",
    "plt.xticks(range(24))\n",
    "plt.grid(True)\n",
    "plt.show()"
   ]
  },
  {
   "cell_type": "markdown",
   "metadata": {},
   "source": [
    "**Análisis.**\n",
    "\n",
    "Para ambos estados (Inviernos y Verano), los pormedios de renta son iguales, no obstante, los promedios muestran patrones distintivos en el número de bicicletas rentadas por hora a lo largo del día. Se observa un aumento durante las horas de la mañana, con picos notables alrededor de las 8:00 a.m. y las 9:00 a.m., lo que sugiere un posible uso para desplazamientos laborales o escolares. El número de bicicletas rentadas disminuye gradualmente durante el día, con mínimos alrededor de las 4:00 a.m. y picos nuevamente durante las horas de la tarde, particularmente alrededor de las 5:00 p.m. y las 6:00 p.m. Estos picos podrían indicar el regreso a casa después del trabajo o actividades recreativas. Además, se observa un descenso en el número de bicicletas rentadas a partir de las 7:00 p.m., con horas nocturnas de menor actividad. Es crucial considerar si estos patrones varían durante los días laborales y los fines de semana, lo que podría proporcionar información valiosa para la gestión de servicios de alquiler de bicicletas y la planificación de la movilidad urbana."
   ]
  },
  {
   "cell_type": "markdown",
   "metadata": {},
   "source": [
    "### Punto 3 - Regresión lineal\n",
    "En la celda 3 ajuste un modelo de regresión lineal a todo el conjunto de datos, utilizando \"total\" como variable de respuesta y \"season\" y \"hour\" como las únicas variables predictoras, teniendo en cuenta que la variable \"season\" es categórica. Luego, imprima los coeficientes e interprételos. ¿Cuáles son las limitaciones de la regresión lineal en este caso?"
   ]
  },
  {
   "cell_type": "markdown",
   "metadata": {},
   "source": [
    "<font color='yellow'>Solución Punto 3.</font>"
   ]
  },
  {
   "cell_type": "code",
   "execution_count": 28,
   "metadata": {},
   "outputs": [],
   "source": [
    "# Celda 3\n",
    "from sklearn.model_selection import train_test_split\n",
    "bikes_encoded = pd.get_dummies(bikes, columns=[\"season\"], drop_first=True)"
   ]
  },
  {
   "cell_type": "code",
   "execution_count": 30,
   "metadata": {},
   "outputs": [
    {
     "name": "stdout",
     "output_type": "stream",
     "text": [
      "Coeficientes del modelo:\n",
      "Intercepto: -5.9195473419623\n",
      "Coeficientes para hour, season_2, season_3, season_4: [ 10.56961908  99.10667072 116.04634     84.944802  ]\n"
     ]
    }
   ],
   "source": [
    "X = bikes_encoded[[\"hour\", \"season_2\", \"season_3\", \"season_4\"]]\n",
    "y = bikes_encoded[\"total\"]\n",
    "\n",
    "X_train, X_test, y_train, y_test = train_test_split(X, y, test_size=0.2, random_state=42)\n",
    "model = LinearRegression()\n",
    "model.fit(X_train, y_train)\n",
    "\n",
    "print(\"Coeficientes del modelo:\")\n",
    "print(\"Intercepto:\", model.intercept_)\n",
    "print(\"Coeficientes para hour, season_2, season_3, season_4:\", model.coef_)"
   ]
  },
  {
   "cell_type": "markdown",
   "metadata": {},
   "source": [
    "**Análisis**\n",
    "\n",
    "Al analizar los coeficientes del modelo de regresión lineal, encontramos que para cada hora adicional, se estima un aumento de aproximadamente 10.57 bicicletas alquiladas, manteniendo constante el efecto de la estacionalidad. Sin embargo, al profundizar en la interpretación de los coeficientes, surgen ciertas limitaciones de la regresión lineal en este contexto. Por un lado, la suposición de linealidad puede no capturar completamente las relaciones complejas entre las variables predictoras y la variable de respuesta. Además, la posible presencia de multicolinealidad entre las variables predictoras podría afectar la interpretación de los coeficientes. Aunque hemos incluido variables dummy para representar las diferentes estaciones, la regresión lineal podría no ser suficiente para capturar la variabilidad estacional de manera precisa. Además, la sensibilidad a valores atípicos en los datos podría influir en los resultados del modelo y su interpretación. En resumen, mientras que la regresión lineal proporciona un punto de partida útil para el análisis, es crucial considerar sus limitaciones y explorar modelos más complejos si las suposiciones de la regresión lineal no se cumplen plenamente."
   ]
  },
  {
   "cell_type": "markdown",
   "metadata": {},
   "source": [
    "### Punto 4 - Árbol de decisión manual\n",
    "En la celda 4 cree un árbol de decisiones para pronosticar la variable \"total\" iterando **manualmente** sobre las variables \"hour\" y  \"season\". El árbol debe tener al menos 6 nodos finales."
   ]
  },
  {
   "cell_type": "markdown",
   "metadata": {},
   "source": [
    "<font color='yellow'>Solución Punto 4.</font>"
   ]
  },
  {
   "cell_type": "code",
   "execution_count": 33,
   "metadata": {},
   "outputs": [],
   "source": [
    "# Celda 4\n",
    "def split_data(hour, season):\n",
    "    return bikes[(bikes[\"hour\"] <= hour) & (bikes[\"season\"] <= season)], bikes[(bikes[\"hour\"] > hour) & (bikes[\"season\"] > season)]\n",
    "\n",
    "class Node:\n",
    "    def __init__(self, prediction):\n",
    "        self.prediction = prediction\n",
    "        self.left = None\n",
    "        self.right = None\n",
    "\n",
    "root_data, left_data = split_data(12, 2)\n",
    "root_prediction = root_data[\"total\"].mean()\n",
    "root = Node(root_prediction)\n",
    "\n",
    "left_root_data, left_left_data = split_data(6, 2)\n",
    "left_root_prediction = left_root_data[\"total\"].mean()\n",
    "root.left = Node(left_root_prediction)\n",
    "\n",
    "right_root_data, right_left_data = split_data(12, 4)\n",
    "right_root_prediction = right_root_data[\"total\"].mean()\n",
    "root.right = Node(right_root_prediction)\n",
    "\n",
    "left_left_root_data, _ = split_data(6, 1)\n",
    "left_left_root_prediction = left_left_root_data[\"total\"].mean()\n",
    "root.left.left = Node(left_left_root_prediction)\n",
    "\n",
    "left_left_left_data, _ = split_data(3, 1)\n",
    "left_left_left_prediction = left_left_left_data[\"total\"].mean()\n",
    "root.left.left.left = Node(left_left_left_prediction)\n",
    "\n",
    "right_left_root_data, _ = split_data(12, 3)\n",
    "right_left_root_prediction = right_left_root_data[\"total\"].mean()\n",
    "root.right.left = Node(right_left_root_prediction)\n",
    "\n",
    "right_left_left_data, _ = split_data(9, 3)\n",
    "right_left_left_prediction = right_left_left_data[\"total\"].mean()\n",
    "root.right.left.left = Node(right_left_left_prediction)"
   ]
  },
  {
   "cell_type": "code",
   "execution_count": 34,
   "metadata": {},
   "outputs": [
    {
     "name": "stdout",
     "output_type": "stream",
     "text": [
      " Predicción: 111.42322226039161\n",
      " Izquierda:\n",
      "   Predicción: 26.50064599483204\n",
      "   Izquierda:\n",
      "     Predicción: 18.290836653386453\n",
      "     Izquierda:\n",
      "       Predicción: 17.424242424242426\n",
      " Derecha:\n",
      "   Predicción: 129.0809199318569\n",
      "   Izquierda:\n",
      "     Predicción: 125.78086560364464\n",
      "     Izquierda:\n",
      "       Predicción: 100.45929887106358\n"
     ]
    }
   ],
   "source": [
    "def plot_tree(node, depth=0):\n",
    "    if node is None:\n",
    "        return\n",
    "\n",
    "    indent = \"  \" * depth\n",
    "    print(indent, \"Predicción:\", node.prediction)\n",
    "\n",
    "    if node.left is not None:\n",
    "        print(indent, \"Izquierda:\")\n",
    "        plot_tree(node.left, depth + 1)\n",
    "\n",
    "    if node.right is not None:\n",
    "        print(indent, \"Derecha:\")\n",
    "        plot_tree(node.right, depth + 1)\n",
    "\n",
    "plot_tree(root)"
   ]
  },
  {
   "cell_type": "markdown",
   "metadata": {},
   "source": [
    "### Punto 5 - Árbol de decisión con librería\n",
    "En la celda 5 entrene un árbol de decisiones con la **librería sklearn**, usando las variables predictoras \"season\" y \"hour\" y calibre los parámetros que considere conveniente para obtener un mejor desempeño. Recuerde dividir los datos en conjuntos de entrenamiento y validación para esto. Comente el desempeño del modelo con alguna métrica de desempeño de modelos de regresión y compare desempeño con el modelo del punto 3."
   ]
  },
  {
   "cell_type": "markdown",
   "metadata": {},
   "source": [
    "<font color='yellow'>Solución Punto 5.</font>"
   ]
  },
  {
   "cell_type": "code",
   "execution_count": 36,
   "metadata": {},
   "outputs": [
    {
     "name": "stdout",
     "output_type": "stream",
     "text": [
      "Error cuadrático medio en el conjunto de validación: 13451.363196184311\n"
     ]
    }
   ],
   "source": [
    "# Celda 5\n",
    "from sklearn.model_selection import train_test_split, GridSearchCV\n",
    "from sklearn.metrics import mean_squared_error\n",
    "\n",
    "X = bikes[[\"hour\", \"season\"]]\n",
    "y = bikes[\"total\"]\n",
    "X_train, X_val, y_train, y_val = train_test_split(X, y, test_size=0.2, random_state=42)\n",
    "tree = DecisionTreeRegressor(random_state=42)\n",
    "param_grid = {\n",
    "    'max_depth': [3, 5, 7, 9],\n",
    "    'min_samples_split': [2, 5, 10],\n",
    "    'min_samples_leaf': [1, 2, 4]\n",
    "}\n",
    "\n",
    "grid_search = GridSearchCV(estimator=tree, param_grid=param_grid, cv=5)\n",
    "grid_search.fit(X_train, y_train)\n",
    "\n",
    "best_tree = grid_search.best_estimator_\n",
    "\n",
    "y_pred = best_tree.predict(X_val)\n",
    "\n",
    "mse = mean_squared_error(y_val, y_pred)\n",
    "print(\"Error cuadrático medio en el conjunto de validación:\", mse)"
   ]
  },
  {
   "cell_type": "markdown",
   "metadata": {},
   "source": [
    "**Análisis.**\n",
    "\n",
    "El modelo tiene un error cuadrático medio (MSE) de aproximadamente 13451.36 en el conjunto de validación. Este valor indica la discrepancia cuadrática promedio entre las predicciones del modelo y los valores reales. En comparación con el modelo manual del punto 3, este modelo optimizado podría ofrecer un mejor ajuste a los datos, pero a costa de una mayor complejidad y menor interpretabilidad. La elección del modelo depende de tus objetivos específicos, considerando la precisión, la interpretación y la simplicidad del modelo."
   ]
  },
  {
   "cell_type": "markdown",
   "metadata": {},
   "source": [
    "## Parte B - Métodos de ensamblajes\n",
    "En esta parte del taller se usará el conjunto de datos de Popularidad de Noticias Online. El objetivo es predecir si la notica es popular o no, la popularidad está dada por la cantidad de reacciones en redes sociales. Para más detalles puede visitar el siguiente enlace: [datos](https://archive.ics.uci.edu/ml/datasets/online+news+popularity)."
   ]
  },
  {
   "cell_type": "markdown",
   "metadata": {},
   "source": [
    "### Datos popularidad de noticias"
   ]
  },
  {
   "cell_type": "code",
   "execution_count": 38,
   "metadata": {},
   "outputs": [
    {
     "data": {
      "text/html": [
       "<div>\n",
       "<style scoped>\n",
       "    .dataframe tbody tr th:only-of-type {\n",
       "        vertical-align: middle;\n",
       "    }\n",
       "\n",
       "    .dataframe tbody tr th {\n",
       "        vertical-align: top;\n",
       "    }\n",
       "\n",
       "    .dataframe thead th {\n",
       "        text-align: right;\n",
       "    }\n",
       "</style>\n",
       "<table border=\"1\" class=\"dataframe\">\n",
       "  <thead>\n",
       "    <tr style=\"text-align: right;\">\n",
       "      <th></th>\n",
       "      <th>url</th>\n",
       "      <th>timedelta</th>\n",
       "      <th>n_tokens_title</th>\n",
       "      <th>n_tokens_content</th>\n",
       "      <th>n_unique_tokens</th>\n",
       "      <th>n_non_stop_words</th>\n",
       "      <th>n_non_stop_unique_tokens</th>\n",
       "      <th>num_hrefs</th>\n",
       "      <th>num_self_hrefs</th>\n",
       "      <th>num_imgs</th>\n",
       "      <th>...</th>\n",
       "      <th>min_positive_polarity</th>\n",
       "      <th>max_positive_polarity</th>\n",
       "      <th>avg_negative_polarity</th>\n",
       "      <th>min_negative_polarity</th>\n",
       "      <th>max_negative_polarity</th>\n",
       "      <th>title_subjectivity</th>\n",
       "      <th>title_sentiment_polarity</th>\n",
       "      <th>abs_title_subjectivity</th>\n",
       "      <th>abs_title_sentiment_polarity</th>\n",
       "      <th>Popular</th>\n",
       "    </tr>\n",
       "  </thead>\n",
       "  <tbody>\n",
       "    <tr>\n",
       "      <th>0</th>\n",
       "      <td>http://mashable.com/2014/12/10/cia-torture-rep...</td>\n",
       "      <td>28.0</td>\n",
       "      <td>9.0</td>\n",
       "      <td>188.0</td>\n",
       "      <td>0.732620</td>\n",
       "      <td>1.0</td>\n",
       "      <td>0.844262</td>\n",
       "      <td>5.0</td>\n",
       "      <td>1.0</td>\n",
       "      <td>1.0</td>\n",
       "      <td>...</td>\n",
       "      <td>0.200000</td>\n",
       "      <td>0.80</td>\n",
       "      <td>-0.487500</td>\n",
       "      <td>-0.60</td>\n",
       "      <td>-0.250000</td>\n",
       "      <td>0.9</td>\n",
       "      <td>0.8</td>\n",
       "      <td>0.4</td>\n",
       "      <td>0.8</td>\n",
       "      <td>1</td>\n",
       "    </tr>\n",
       "    <tr>\n",
       "      <th>1</th>\n",
       "      <td>http://mashable.com/2013/10/18/bitlock-kicksta...</td>\n",
       "      <td>447.0</td>\n",
       "      <td>7.0</td>\n",
       "      <td>297.0</td>\n",
       "      <td>0.653199</td>\n",
       "      <td>1.0</td>\n",
       "      <td>0.815789</td>\n",
       "      <td>9.0</td>\n",
       "      <td>4.0</td>\n",
       "      <td>1.0</td>\n",
       "      <td>...</td>\n",
       "      <td>0.160000</td>\n",
       "      <td>0.50</td>\n",
       "      <td>-0.135340</td>\n",
       "      <td>-0.40</td>\n",
       "      <td>-0.050000</td>\n",
       "      <td>0.1</td>\n",
       "      <td>-0.1</td>\n",
       "      <td>0.4</td>\n",
       "      <td>0.1</td>\n",
       "      <td>0</td>\n",
       "    </tr>\n",
       "    <tr>\n",
       "      <th>2</th>\n",
       "      <td>http://mashable.com/2013/07/24/google-glass-po...</td>\n",
       "      <td>533.0</td>\n",
       "      <td>11.0</td>\n",
       "      <td>181.0</td>\n",
       "      <td>0.660377</td>\n",
       "      <td>1.0</td>\n",
       "      <td>0.775701</td>\n",
       "      <td>4.0</td>\n",
       "      <td>3.0</td>\n",
       "      <td>1.0</td>\n",
       "      <td>...</td>\n",
       "      <td>0.136364</td>\n",
       "      <td>1.00</td>\n",
       "      <td>0.000000</td>\n",
       "      <td>0.00</td>\n",
       "      <td>0.000000</td>\n",
       "      <td>0.3</td>\n",
       "      <td>1.0</td>\n",
       "      <td>0.2</td>\n",
       "      <td>1.0</td>\n",
       "      <td>0</td>\n",
       "    </tr>\n",
       "    <tr>\n",
       "      <th>3</th>\n",
       "      <td>http://mashable.com/2013/11/21/these-are-the-m...</td>\n",
       "      <td>413.0</td>\n",
       "      <td>12.0</td>\n",
       "      <td>781.0</td>\n",
       "      <td>0.497409</td>\n",
       "      <td>1.0</td>\n",
       "      <td>0.677350</td>\n",
       "      <td>10.0</td>\n",
       "      <td>3.0</td>\n",
       "      <td>1.0</td>\n",
       "      <td>...</td>\n",
       "      <td>0.100000</td>\n",
       "      <td>1.00</td>\n",
       "      <td>-0.195701</td>\n",
       "      <td>-0.40</td>\n",
       "      <td>-0.071429</td>\n",
       "      <td>0.0</td>\n",
       "      <td>0.0</td>\n",
       "      <td>0.5</td>\n",
       "      <td>0.0</td>\n",
       "      <td>0</td>\n",
       "    </tr>\n",
       "    <tr>\n",
       "      <th>4</th>\n",
       "      <td>http://mashable.com/2014/02/11/parking-ticket-...</td>\n",
       "      <td>331.0</td>\n",
       "      <td>8.0</td>\n",
       "      <td>177.0</td>\n",
       "      <td>0.685714</td>\n",
       "      <td>1.0</td>\n",
       "      <td>0.830357</td>\n",
       "      <td>3.0</td>\n",
       "      <td>2.0</td>\n",
       "      <td>1.0</td>\n",
       "      <td>...</td>\n",
       "      <td>0.100000</td>\n",
       "      <td>0.55</td>\n",
       "      <td>-0.175000</td>\n",
       "      <td>-0.25</td>\n",
       "      <td>-0.100000</td>\n",
       "      <td>0.0</td>\n",
       "      <td>0.0</td>\n",
       "      <td>0.5</td>\n",
       "      <td>0.0</td>\n",
       "      <td>0</td>\n",
       "    </tr>\n",
       "  </tbody>\n",
       "</table>\n",
       "<p>5 rows × 61 columns</p>\n",
       "</div>"
      ],
      "text/plain": [
       "                                                 url  timedelta  \\\n",
       "0  http://mashable.com/2014/12/10/cia-torture-rep...       28.0   \n",
       "1  http://mashable.com/2013/10/18/bitlock-kicksta...      447.0   \n",
       "2  http://mashable.com/2013/07/24/google-glass-po...      533.0   \n",
       "3  http://mashable.com/2013/11/21/these-are-the-m...      413.0   \n",
       "4  http://mashable.com/2014/02/11/parking-ticket-...      331.0   \n",
       "\n",
       "   n_tokens_title  n_tokens_content  n_unique_tokens  n_non_stop_words  \\\n",
       "0             9.0             188.0         0.732620               1.0   \n",
       "1             7.0             297.0         0.653199               1.0   \n",
       "2            11.0             181.0         0.660377               1.0   \n",
       "3            12.0             781.0         0.497409               1.0   \n",
       "4             8.0             177.0         0.685714               1.0   \n",
       "\n",
       "   n_non_stop_unique_tokens  num_hrefs  num_self_hrefs  num_imgs  ...  \\\n",
       "0                  0.844262        5.0             1.0       1.0  ...   \n",
       "1                  0.815789        9.0             4.0       1.0  ...   \n",
       "2                  0.775701        4.0             3.0       1.0  ...   \n",
       "3                  0.677350       10.0             3.0       1.0  ...   \n",
       "4                  0.830357        3.0             2.0       1.0  ...   \n",
       "\n",
       "   min_positive_polarity  max_positive_polarity  avg_negative_polarity  \\\n",
       "0               0.200000                   0.80              -0.487500   \n",
       "1               0.160000                   0.50              -0.135340   \n",
       "2               0.136364                   1.00               0.000000   \n",
       "3               0.100000                   1.00              -0.195701   \n",
       "4               0.100000                   0.55              -0.175000   \n",
       "\n",
       "   min_negative_polarity  max_negative_polarity  title_subjectivity  \\\n",
       "0                  -0.60              -0.250000                 0.9   \n",
       "1                  -0.40              -0.050000                 0.1   \n",
       "2                   0.00               0.000000                 0.3   \n",
       "3                  -0.40              -0.071429                 0.0   \n",
       "4                  -0.25              -0.100000                 0.0   \n",
       "\n",
       "   title_sentiment_polarity  abs_title_subjectivity  \\\n",
       "0                       0.8                     0.4   \n",
       "1                      -0.1                     0.4   \n",
       "2                       1.0                     0.2   \n",
       "3                       0.0                     0.5   \n",
       "4                       0.0                     0.5   \n",
       "\n",
       "   abs_title_sentiment_polarity  Popular  \n",
       "0                           0.8        1  \n",
       "1                           0.1        0  \n",
       "2                           1.0        0  \n",
       "3                           0.0        0  \n",
       "4                           0.0        0  \n",
       "\n",
       "[5 rows x 61 columns]"
      ]
     },
     "execution_count": 38,
     "metadata": {},
     "output_type": "execute_result"
    }
   ],
   "source": [
    "# Lectura de la información de archivo .csv\n",
    "df = pd.read_csv('https://raw.githubusercontent.com/davidzarruk/MIAD_ML_NLP_2023/main/datasets/mashable.csv', index_col=0)\n",
    "df.head()"
   ]
  },
  {
   "cell_type": "code",
   "execution_count": 39,
   "metadata": {},
   "outputs": [
    {
     "data": {
      "text/plain": [
       "0.5"
      ]
     },
     "execution_count": 39,
     "metadata": {},
     "output_type": "execute_result"
    }
   ],
   "source": [
    "# Definición variable de interes y variables predictoras\n",
    "X = df.drop(['url', 'Popular'], axis=1)\n",
    "y = df['Popular']\n",
    "y.mean()"
   ]
  },
  {
   "cell_type": "code",
   "execution_count": 40,
   "metadata": {},
   "outputs": [],
   "source": [
    "# División de la muestra en set de entrenamiento y prueba\n",
    "from sklearn.model_selection import train_test_split\n",
    "X_train, X_test, y_train, y_test = train_test_split(X, y, random_state=1)"
   ]
  },
  {
   "cell_type": "markdown",
   "metadata": {},
   "source": [
    "### Punto 6 - Árbol de decisión y regresión logística\n",
    "En la celda 6 construya un árbol de decisión y una regresión logística. Para el árbol calibre al menos un parámetro y evalúe el desempeño de cada modelo usando las métricas de Accuracy y F1-Score."
   ]
  },
  {
   "cell_type": "markdown",
   "metadata": {},
   "source": [
    "<font color='yellow'>Solución Punto 6.</font>"
   ]
  },
  {
   "cell_type": "code",
   "execution_count": 43,
   "metadata": {},
   "outputs": [
    {
     "name": "stdout",
     "output_type": "stream",
     "text": [
      "Desempeño del árbol de decisión:\n",
      "Accuracy: 0.6413333333333333\n",
      "F1-Score: 0.6072992700729928\n",
      "\n",
      "Desempeño de la regresión logística:\n",
      "Accuracy: 0.6126666666666667\n",
      "F1-Score: 0.6098052384150436\n"
     ]
    }
   ],
   "source": [
    "# Celda 6\n",
    "from sklearn.tree import DecisionTreeClassifier\n",
    "from sklearn.linear_model import LogisticRegression\n",
    "from sklearn.model_selection import GridSearchCV\n",
    "from sklearn.metrics import accuracy_score, f1_score\n",
    "tree = DecisionTreeClassifier(random_state=1)\n",
    "\n",
    "param_grid_tree = {\n",
    "    'max_depth': [3, 5, 7, 9]\n",
    "}\n",
    "grid_search_tree = GridSearchCV(estimator=tree, param_grid=param_grid_tree, cv=5)\n",
    "grid_search_tree.fit(X_train, y_train)\n",
    "\n",
    "best_tree = grid_search_tree.best_estimator_\n",
    "\n",
    "y_pred_tree = best_tree.predict(X_test)\n",
    "\n",
    "accuracy_tree = accuracy_score(y_test, y_pred_tree)\n",
    "f1_score_tree = f1_score(y_test, y_pred_tree)\n",
    "\n",
    "print(\"Desempeño del árbol de decisión:\")\n",
    "print(\"Accuracy:\", accuracy_tree)\n",
    "print(\"F1-Score:\", f1_score_tree)\n",
    "\n",
    "logistic = LogisticRegression(random_state=1)\n",
    "logistic.fit(X_train, y_train)\n",
    "\n",
    "y_pred_logistic = logistic.predict(X_test)\n",
    "accuracy_logistic = accuracy_score(y_test, y_pred_logistic)\n",
    "f1_score_logistic = f1_score(y_test, y_pred_logistic)\n",
    "\n",
    "print(\"\\nDesempeño de la regresión logística:\")\n",
    "print(\"Accuracy:\", accuracy_logistic)\n",
    "print(\"F1-Score:\", f1_score_logistic)"
   ]
  },
  {
   "cell_type": "markdown",
   "metadata": {},
   "source": [
    "**Análisis.**\n",
    "\n",
    "- El árbol de decisión tiene un desempeño ligeramente mejor que la regresión logística en términos de accuracy y f1-score. Sin embargo, la diferencia entre los dos modelos no es significativa.\n",
    "- Ambos modelos tienen un desempeño similar, lo que sugiere que ambos pueden ser considerados como opciones viables para el problema en cuestión.\n",
    "- Es posible que otros factores, como la interpretación del modelo o la escalabilidad, puedan influir en la elección final entre estos dos modelos."
   ]
  },
  {
   "cell_type": "markdown",
   "metadata": {},
   "source": [
    "### Punto 7 - Votación Mayoritaria\n",
    "En la celda 7 elabore un esamble con la metodología de **Votación mayoritaria** compuesto por 300 muestras bagged donde:\n",
    "\n",
    "-las primeras 100 muestras vienen de árboles de decisión donde max_depth tome un valor de su elección\\\n",
    "-las segundas 100 muestras vienen de árboles de decisión donde min_samples_leaf tome un valor de su elección\\\n",
    "-las últimas 100 muestras vienen de regresiones logísticas\n",
    "\n",
    "Evalúe cada uno de los tres modelos de manera independiente utilizando las métricas de Accuracy y F1-Score, luego evalúe el ensamble de modelos y compare los resultados. \n",
    "\n",
    "Nota: \n",
    "\n",
    "Para este ensamble de 300 modelos, deben hacer votación mayoritaria. Esto lo pueden hacer de distintas maneras. La más \"fácil\" es haciendo la votación \"manualmente\", como se hace a partir del minuto 5:45 del video de Ejemplo práctico de emsablajes en Coursera. Digo que es la más fácil porque si hacen la votación mayoritaria sobre las 300 predicciones van a obtener lo que se espera.\n",
    "\n",
    "Otra opción es: para cada uno de los 3 tipos de modelos, entrenar un ensamble de 100 modelos cada uno. Predecir para cada uno de esos tres ensambles y luego predecir como un ensamble de los 3 ensambles. La cuestión es que la votación mayoritaria al usar los 3 ensambles no necesariamente va a generar el mismo resultado que si hacen la votación mayoritaria directamente sobre los 300 modelos. Entonces, para los que quieran hacer esto, deben hacer ese último cálculo con cuidado.\n",
    "\n",
    "Para los que quieran hacerlo como ensamble de ensambles, digo que se debe hacer el ensamble final con cuidado por lo siguiente. Supongamos que:\n",
    "\n",
    "* para los 100 árboles del primer tipo, la votación mayoritaria es: 55% de los modelos predicen que la clase de una observación es \"1\"\n",
    "* para los 100 árboles del segundo tipo, la votación mayoritaria es: 55% de los modelos predicen que la clase de una observación es \"1\"\n",
    "* para las 100 regresiones logísticas, la votación mayoritaria es: 10% de los modelos predicen que la clase de una observación es \"1\"\n",
    "\n",
    "Si se hace la votación mayoritaria de los 300 modelos, la predicción de esa observación debería ser: (100*55%+100*55%+100*10%)/300 = 40% de los modelos votan porque la predicción debería ser \"1\". Es decir, la predicción del ensamble es \"0\" (dado que menos del 50% de modelos predijo un 1).\n",
    "\n",
    "Sin embargo, si miramos cada ensamble por separado, el primer ensamble predice \"1\", el segundo ensamble predice \"1\" y el último ensamble predice \"0\". Si hago votación mayoritaria sobre esto, la predicción va a ser \"1\", lo cual es distinto a si se hace la votación mayoritaria sobre los 300 modelos."
   ]
  },
  {
   "cell_type": "markdown",
   "metadata": {},
   "source": [
    "<font color='yellow'>Solución Punto 7.</font>"
   ]
  },
  {
   "cell_type": "code",
   "execution_count": 44,
   "metadata": {},
   "outputs": [
    {
     "name": "stdout",
     "output_type": "stream",
     "text": [
      "Desempeño de árboles de decisión (max_depth=5):\n",
      "Accuracy: 0.6373333333333333\n",
      "F1-Score: 0.6616915422885573\n",
      "\n",
      "Desempeño de árboles de decisión (min_samples_leaf=5):\n",
      "Accuracy: 0.542\n",
      "F1-Score: 0.5459352280237937\n",
      "\n",
      "Desempeño de regresión logística:\n",
      "Accuracy: 0.6126666666666667\n",
      "F1-Score: 0.6098052384150436\n",
      "\n",
      "Desempeño del ensamble:\n",
      "Accuracy: 0.6193333333333333\n",
      "F1-Score: 0.6280130293159609\n"
     ]
    }
   ],
   "source": [
    "# Celda 7\n",
    "from sklearn.ensemble import BaggingClassifier\n",
    "\n",
    "tree_max_depth = DecisionTreeClassifier(max_depth=5, random_state=1)\n",
    "tree_min_samples_leaf = DecisionTreeClassifier(min_samples_leaf=5, random_state=1)\n",
    "\n",
    "tree_max_depth.fit(X_train, y_train)\n",
    "tree_min_samples_leaf.fit(X_train, y_train)\n",
    "\n",
    "logistic = LogisticRegression(random_state=1)\n",
    "logistic.fit(X_train, y_train)\n",
    "\n",
    "y_pred_tree_max_depth = tree_max_depth.predict(X_test)\n",
    "y_pred_tree_min_samples_leaf = tree_min_samples_leaf.predict(X_test)\n",
    "y_pred_logistic = logistic.predict(X_test)\n",
    "\n",
    "accuracy_tree_max_depth = accuracy_score(y_test, y_pred_tree_max_depth)\n",
    "f1_score_tree_max_depth = f1_score(y_test, y_pred_tree_max_depth)\n",
    "\n",
    "accuracy_tree_min_samples_leaf = accuracy_score(y_test, y_pred_tree_min_samples_leaf)\n",
    "f1_score_tree_min_samples_leaf = f1_score(y_test, y_pred_tree_min_samples_leaf)\n",
    "\n",
    "accuracy_logistic = accuracy_score(y_test, y_pred_logistic)\n",
    "f1_score_logistic = f1_score(y_test, y_pred_logistic)\n",
    "\n",
    "print(\"Desempeño de árboles de decisión (max_depth=5):\")\n",
    "print(\"Accuracy:\", accuracy_tree_max_depth)\n",
    "print(\"F1-Score:\", f1_score_tree_max_depth)\n",
    "\n",
    "print(\"\\nDesempeño de árboles de decisión (min_samples_leaf=5):\")\n",
    "print(\"Accuracy:\", accuracy_tree_min_samples_leaf)\n",
    "print(\"F1-Score:\", f1_score_tree_min_samples_leaf)\n",
    "\n",
    "print(\"\\nDesempeño de regresión logística:\")\n",
    "print(\"Accuracy:\", accuracy_logistic)\n",
    "print(\"F1-Score:\", f1_score_logistic)\n",
    "\n",
    "\n",
    "y_pred_ensemble = [] #Votación mayoritaria manual\n",
    "for i in range(len(X_test)):\n",
    "    votes = y_pred_tree_max_depth[i] + y_pred_tree_min_samples_leaf[i] + y_pred_logistic[i]\n",
    "    y_pred_ensemble.append(int(votes >= 2))\n",
    "\n",
    "accuracy_ensemble = accuracy_score(y_test, y_pred_ensemble)\n",
    "f1_score_ensemble = f1_score(y_test, y_pred_ensemble)\n",
    "\n",
    "print(\"\\nDesempeño del ensamble:\")\n",
    "print(\"Accuracy:\", accuracy_ensemble)\n",
    "print(\"F1-Score:\", f1_score_ensemble)"
   ]
  },
  {
   "cell_type": "markdown",
   "metadata": {},
   "source": [
    "**Análisis.**\n",
    "\n",
    "- El árbol de decisión con max_depth=5 tiene el mejor desempeño en términos de accuracy y F1-score entre los modelos individuales.\n",
    "- El árbol de decisión con min_samples_leaf=5 tiene el desempeño más bajo.\n",
    "- La regresión logística tiene un desempeño moderado, similar al árbol de decisión con max_depth=5.\n",
    "- El ensamble tiene un desempeño similar a la regresión logística en términos de accuracy, pero supera a todos los modelos individuales en términos de F1-score, lo que quiere decir que el ensamble puede capturar mejor la complejidad de los datos y mejorar la capacidad de generalización."
   ]
  },
  {
   "cell_type": "markdown",
   "metadata": {},
   "source": [
    "### Punto 8 - Votación Ponderada\n",
    "En la celda 8 elabore un ensamble con la metodología de **Votación ponderada** compuesto por 300 muestras bagged para los mismos tres escenarios del punto 7. Evalúe los modelos utilizando las métricas de Accuracy y F1-Score"
   ]
  },
  {
   "cell_type": "markdown",
   "metadata": {},
   "source": [
    "<font color='yellow'>Solución Punto 8.</font>"
   ]
  },
  {
   "cell_type": "code",
   "execution_count": 46,
   "metadata": {},
   "outputs": [
    {
     "name": "stdout",
     "output_type": "stream",
     "text": [
      "Desempeño del ensamble con votación ponderada:\n",
      "Accuracy: 0.5853333333333334\n",
      "F1-Score: 0.5864361702127661\n"
     ]
    }
   ],
   "source": [
    "# Celda 8\n",
    "from sklearn.ensemble import VotingClassifier\n",
    "\n",
    "tree_max_depth = DecisionTreeClassifier(max_depth=5, random_state=1)\n",
    "tree_min_samples_leaf = DecisionTreeClassifier(min_samples_leaf=5, random_state=1)\n",
    "logistic = LogisticRegression(random_state=1)\n",
    "\n",
    "ensemble = VotingClassifier(estimators=[\n",
    "    ('tree_max_depth', tree_max_depth),\n",
    "    ('tree_min_samples_leaf', tree_min_samples_leaf),\n",
    "    ('logistic', logistic)\n",
    "], voting='soft')  #Soft voting para ponderación de votos\n",
    "\n",
    "ensemble.fit(X_train, y_train)\n",
    "\n",
    "y_pred_ensemble = ensemble.predict(X_test) #Hacer predicciones con el ensamble\n",
    "\n",
    "accuracy_ensemble = accuracy_score(y_test, y_pred_ensemble)\n",
    "f1_score_ensemble = f1_score(y_test, y_pred_ensemble)\n",
    "\n",
    "print(\"Desempeño del ensamble con votación ponderada:\")\n",
    "print(\"Accuracy:\", accuracy_ensemble)\n",
    "print(\"F1-Score:\", f1_score_ensemble)"
   ]
  },
  {
   "cell_type": "markdown",
   "metadata": {},
   "source": [
    "**Análisis.**\n",
    "\n",
    "El ensamble, al combinar los modelos individuales utilizando la metodología de votación ponderada, logra clasificar correctamente alrededor del 58.53% de las observaciones en el conjunto de prueba. Además, el F1-Score, que es una medida de precisión que tiene en cuenta tanto la precisión como el recuerdo del modelo, es de aproximadamente 0.5864.\n",
    "\n",
    "En comparación con los modelos individuales del punto anterior, el desempeño del ensamble con votación ponderada puede variar. Si este desempeño es mejor o peor que los modelos individuales dependerá de cómo los modelos individuales se complementen entre sí en el ensamble. En general, el ensamble puede mejorar la capacidad de generalización del modelo al combinar las fortalezas de los modelos individuales y mitigar sus debilidades."
   ]
  },
  {
   "cell_type": "markdown",
   "metadata": {},
   "source": [
    "### Punto 9 - Comparación y análisis de resultados\n",
    "En la celda 9 comente sobre los resultados obtenidos con las metodologías usadas en los puntos 7 y 8, compare los resultados y enuncie posibles ventajas o desventajas de cada una de ellas."
   ]
  },
  {
   "cell_type": "markdown",
   "metadata": {},
   "source": [
    "<font color='yellow'>Solución Punto 9.</font>"
   ]
  },
  {
   "cell_type": "markdown",
   "metadata": {},
   "source": [
    "# Celda 9\n",
    "\n",
    "- Metodología del Punto 7: Votación Mayoritaria\n",
    "La votación mayoritaria, empleada en el punto 7, combina las predicciones de múltiples modelos individuales, como árboles de decisión y regresión logística, seleccionando la clase más frecuente como la predicción final. Esta metodología es fácil de entender e implementar, y puede mejorar la generalización y reducir el sobreajuste. Sin embargo, puede verse limitada si los modelos base tienen un rendimiento similar o si algunos modelos son dominantes. No considera la confianza de cada modelo en sus predicciones.\n",
    "\n",
    "- Metodología del Punto 8: Votación Ponderada\n",
    "Por otro lado, en la metodología del punto 8, se utilizó la votación ponderada, donde cada modelo base contribuye a la predicción final con un peso específico, según su confianza en las predicciones. Aunque puede mejorar el desempeño al considerar la importancia relativa de cada modelo, requiere calibrar los pesos de los modelos base y puede ser sensible a modelos mal calibrados. Sin embargo, permite asignar pesos diferentes a cada modelo base en función de su confianza en las predicciones, lo que puede resultar en una mejora en el rendimiento del modelo.\n",
    "\n",
    "Comparación y Comentarios Generales:\n",
    "- Ambas metodologías de ensamble tienen sus propias ventajas y desventajas.\n",
    "- La votación mayoritaria es más simple de implementar y entender, pero puede ser menos efectiva si los modelos base tienen un rendimiento similar.\n",
    "- La votación ponderada puede mejorar el desempeño al asignar pesos a cada modelo base, pero requiere calibrar estos pesos y puede ser sensible a modelos base mal calibrados.\n",
    "- La elección entre estas metodologías dependerá del contexto específico del problema, la disponibilidad de recursos computacionales y la importancia de la precisión y la interpretabilidad del modelo."
   ]
  },
  {
   "cell_type": "code",
   "execution_count": null,
   "metadata": {},
   "outputs": [],
   "source": []
  }
 ],
 "metadata": {
  "kernelspec": {
   "display_name": "Python 3 (ipykernel)",
   "language": "python",
   "name": "python3"
  },
  "language_info": {
   "codemirror_mode": {
    "name": "ipython",
    "version": 3
   },
   "file_extension": ".py",
   "mimetype": "text/x-python",
   "name": "python",
   "nbconvert_exporter": "python",
   "pygments_lexer": "ipython3",
   "version": "3.9.13"
  }
 },
 "nbformat": 4,
 "nbformat_minor": 4
}
